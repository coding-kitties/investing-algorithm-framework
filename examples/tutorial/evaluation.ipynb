{
 "cells": [
  {
   "cell_type": "code",
   "execution_count": 1,
   "id": "5ba1016a",
   "metadata": {},
   "outputs": [],
   "source": [
    "import importlib\n",
    "import strategies.ema_crossover_v1.strategy as ema_crossover_v1\n",
    "\n",
    "importlib.reload(ema_crossover_v1)\n",
    "EMACrossoverRSIStrategy = ema_crossover_v1.EMACrossoverRSIStrategy"
   ]
  },
  {
   "cell_type": "markdown",
   "id": "3febbe25",
   "metadata": {},
   "source": [
    "## Constants"
   ]
  },
  {
   "cell_type": "code",
   "execution_count": 2,
   "id": "78e2c05e",
   "metadata": {},
   "outputs": [],
   "source": [
    "from datetime import datetime, timezone\n",
    "\n",
    "RISK_FREE_RATE = 0.027 # Example risk-free rate, adjust as needed\n",
    "TEST_SET_START_DATE = datetime(2021, 1, 1, tzinfo=timezone.utc)\n",
    "TEST_SET_END_DATE = datetime(2023, 12, 31, tzinfo=timezone.utc)\n",
    "EVALUATION_START_DATE = datetime(2023, 1, 1, tzinfo=timezone.utc)\n",
    "EVALUATION_END_DATE = datetime(2025, 6, 30, tzinfo=timezone.utc)\n",
    "MARKET = \"BITVAVO\"\n",
    "TEST_SYMBOLS = [\"BTC/EUR\", \"ETH/EUR\", \"LTC/EUR\", \"XRP/EUR\", \"ADA/EUR\"]\n",
    "EVALUATION_SYMBOLS = [\n",
    "    \"SOL/EUR\", \"DOT/EUR\", \"LINK/EUR\", \"MATIC/EUR\", \"AVAX/EUR\"\n",
    "]\n",
    "storage_path = \"./data\""
   ]
  },
  {
   "cell_type": "markdown",
   "id": "029a00fa",
   "metadata": {},
   "source": [
    "## Best performing params"
   ]
  },
  {
   "cell_type": "code",
   "execution_count": 3,
   "id": "3ba0fcf5",
   "metadata": {},
   "outputs": [],
   "source": [
    "variant_one = {\n",
    "    'ema_short_period': 75,\n",
    "    'ema_long_period': 100,\n",
    "    'rsi_period': 14,\n",
    "    'rsi_overbought_threshold': 70,\n",
    "    'rsi_oversold_threshold': 30,\n",
    "    'alignment_window_size': 12,\n",
    "    'ema_time_frame': '1d',\n",
    "    'rsi_time_frame': '4h'\n",
    "}\n",
    "variant_two = {\n",
    "    'ema_short_period': 75,\n",
    "    'ema_long_period': 100,\n",
    "    'rsi_period': 14,\n",
    "    'rsi_overbought_threshold': 70,\n",
    "    'rsi_oversold_threshold': 30,\n",
    "    'alignment_window_size': 24,\n",
    "    'ema_time_frame': '1d',\n",
    "    'rsi_time_frame': '4h'\n",
    "}\n",
    "variant_three = {\n",
    "    'ema_short_period': 50,\n",
    "    'ema_long_period': 100,\n",
    "    'rsi_period': 14,\n",
    "    'rsi_overbought_threshold': 70,\n",
    "    'rsi_oversold_threshold': 30,\n",
    "    'alignment_window_size': 24,\n",
    "    'ema_time_frame': '1d',\n",
    "    'rsi_time_frame': '4h'\n",
    "}\n",
    "variant_four = {\n",
    "    'ema_short_period': 50,\n",
    "    'ema_long_period': 100,\n",
    "    'rsi_period': 14,\n",
    "    'rsi_overbought_threshold': 70,\n",
    "    'rsi_oversold_threshold': 30,\n",
    "    'alignment_window_size': 12,\n",
    "    'ema_time_frame': '4h',\n",
    "    'rsi_time_frame': '1h'\n",
    "}\n",
    "variant_five = {\n",
    "    'ema_short_period': 75,\n",
    "    'ema_long_period': 100,\n",
    "    'rsi_period': 14,\n",
    "    'rsi_overbought_threshold': 70,\n",
    "    'rsi_oversold_threshold': 30,\n",
    "    'alignment_window_size': 24,\n",
    "    'ema_time_frame': '1d',\n",
    "    'rsi_time_frame': '1h'\n",
    "}\n",
    "\n",
    "variants = [\n",
    "    variant_one,\n",
    "    variant_two,\n",
    "    variant_three,\n",
    "    variant_four,\n",
    "    variant_five\n",
    "]"
   ]
  },
  {
   "cell_type": "markdown",
   "id": "851afe69",
   "metadata": {},
   "source": [
    "## Data Preparation"
   ]
  },
  {
   "cell_type": "code",
   "execution_count": 4,
   "id": "ccef8135",
   "metadata": {},
   "outputs": [
    {
     "name": "stdout",
     "output_type": "stream",
     "text": [
      "Backtest Date Range (UpTurn): 2021-07-20 00:00:00+00:00 to 2023-07-20 00:00:00+00:00\n",
      "Backtest Date Range (DownTurn): 2021-03-11 00:00:00+00:00 to 2023-03-11 00:00:00+00:00\n",
      "Backtest Date Range (SideWays): 2021-12-31 00:00:00+00:00 to 2023-12-31 00:00:00+00:00\n",
      "Evaluation Date Range (UpTurn): 2023-01-07 00:00:00+00:00 to 2025-01-06 00:00:00+00:00\n",
      "Evaluation Date Range (DownTurn): 2023-04-11 00:00:00+00:00 to 2025-04-10 00:00:00+00:00\n",
      "Evaluation Date Range (SideWays): 2023-01-01 00:00:00+00:00 to 2024-12-31 00:00:00+00:00\n"
     ]
    }
   ],
   "source": [
    "from investing_algorithm_framework import select_backtest_date_ranges, \\\n",
    "    download, SnapshotInterval\n",
    "\n",
    "test_data = download(\n",
    "    symbol=\"BTC/EUR\",\n",
    "    start_date=TEST_SET_START_DATE,\n",
    "    end_date=TEST_SET_END_DATE,\n",
    "    market=MARKET,\n",
    "    time_frame=\"1d\",\n",
    "    save=True,\n",
    "    storage_path=storage_path\n",
    ")\n",
    "evaluation_data = download(\n",
    "    symbol=\"BTC/EUR\",\n",
    "    start_date=EVALUATION_START_DATE,\n",
    "    end_date=EVALUATION_END_DATE,\n",
    "    market=MARKET,\n",
    "    time_frame=\"1d\",\n",
    "    save=True,\n",
    "    storage_path=storage_path\n",
    ")\n",
    "test_backtest_date_ranges = select_backtest_date_ranges(\n",
    "    df=test_data, window=730\n",
    ")\n",
    "evaluation_backtest_date_ranges = select_backtest_date_ranges(\n",
    "    df=evaluation_data, window=730\n",
    ")\n",
    "\n",
    "for date_range in test_backtest_date_ranges:\n",
    "    print(\n",
    "        f\"Backtest Date Range ({date_range.name}): \" +\n",
    "        f\"{date_range.start_date} to {date_range.end_date}\"\n",
    "    )\n",
    "\n",
    "for date_range in evaluation_backtest_date_ranges:\n",
    "    print(\n",
    "        f\"Evaluation Date Range ({date_range.name}): \" +\n",
    "        f\"{date_range.start_date} to {date_range.end_date}\"\n",
    "    )"
   ]
  },
  {
   "cell_type": "markdown",
   "id": "2bc8cc8b",
   "metadata": {},
   "source": [
    "## Run event-based backtests"
   ]
  },
  {
   "cell_type": "code",
   "execution_count": null,
   "id": "afcff758",
   "metadata": {},
   "outputs": [
    {
     "data": {
      "application/vnd.jupyter.widget-view+json": {
       "model_id": "26cc2a1a0e00466c8951e73f84158b1a",
       "version_major": 2,
       "version_minor": 0
      },
      "text/plain": [
       "Running backtests for 5 variants:   0%|          | 0/5 [00:00<?, ?it/s]"
      ]
     },
     "metadata": {},
     "output_type": "display_data"
    },
    {
     "data": {
      "application/vnd.jupyter.widget-view+json": {
       "model_id": "31389dafd191457888d8ffbcab58eef5",
       "version_major": 2,
       "version_minor": 0
      },
      "text/plain": [
       "Preparing backtest data:   0%|          | 0/10 [00:00<?, ?it/s]"
      ]
     },
     "metadata": {},
     "output_type": "display_data"
    },
    {
     "data": {
      "application/vnd.jupyter.widget-view+json": {
       "model_id": "7e8d9e7165f947f8906376fbf067a062",
       "version_major": 2,
       "version_minor": 0
      },
      "text/plain": [
       "Running backtest:   0%|          | 0/8761 [00:00<?, ?it/s]"
      ]
     },
     "metadata": {},
     "output_type": "display_data"
    },
    {
     "data": {
      "application/vnd.jupyter.widget-view+json": {
       "model_id": "782af82135474fa590b3695a29ff60be",
       "version_major": 2,
       "version_minor": 0
      },
      "text/plain": [
       "Preparing backtest data:   0%|          | 0/10 [00:00<?, ?it/s]"
      ]
     },
     "metadata": {},
     "output_type": "display_data"
    },
    {
     "data": {
      "application/vnd.jupyter.widget-view+json": {
       "model_id": "2a0282b7b3f847c1a52694b9e39d263d",
       "version_major": 2,
       "version_minor": 0
      },
      "text/plain": [
       "Running backtest:   0%|          | 0/8761 [00:00<?, ?it/s]"
      ]
     },
     "metadata": {},
     "output_type": "display_data"
    },
    {
     "data": {
      "application/vnd.jupyter.widget-view+json": {
       "model_id": "9da753511e7144fea41e9370ad1f75f1",
       "version_major": 2,
       "version_minor": 0
      },
      "text/plain": [
       "Preparing backtest data:   0%|          | 0/10 [00:00<?, ?it/s]"
      ]
     },
     "metadata": {},
     "output_type": "display_data"
    },
    {
     "data": {
      "application/vnd.jupyter.widget-view+json": {
       "model_id": "92a55e7905ee4927a2fdea593455f3fe",
       "version_major": 2,
       "version_minor": 0
      },
      "text/plain": [
       "Running backtest:   0%|          | 0/8761 [00:00<?, ?it/s]"
      ]
     },
     "metadata": {},
     "output_type": "display_data"
    },
    {
     "name": "stdout",
     "output_type": "stream",
     "text": [
      "Backtest for 1d \n",
      "Final Balance: 1124.36 EUR\n",
      "Total Return: 12436.41%\n",
      "Sharpe Ratio: 0.32\n",
      "Max Drawdown: 14.32%\n",
      "\n",
      "Backtest for 1d \n",
      "Final Balance: 1124.36 EUR\n",
      "Total Return: 12436.41%\n",
      "Sharpe Ratio: 0.32\n",
      "Max Drawdown: 14.32%\n",
      "\n",
      "Backtest for 1d \n",
      "Final Balance: 1000.00 EUR\n",
      "Total Return: 0.00%\n",
      "Sharpe Ratio: nan\n",
      "Max Drawdown: 0.00%\n",
      "\n"
     ]
    },
    {
     "data": {
      "application/vnd.jupyter.widget-view+json": {
       "model_id": "8599110ada914a4793fa781ef61b441d",
       "version_major": 2,
       "version_minor": 0
      },
      "text/plain": [
       "Preparing backtest data:   0%|          | 0/10 [00:00<?, ?it/s]"
      ]
     },
     "metadata": {},
     "output_type": "display_data"
    },
    {
     "data": {
      "application/vnd.jupyter.widget-view+json": {
       "model_id": "f064375fdf1346c3a3ee2cde569c5736",
       "version_major": 2,
       "version_minor": 0
      },
      "text/plain": [
       "Running backtest:   0%|          | 0/8761 [00:00<?, ?it/s]"
      ]
     },
     "metadata": {},
     "output_type": "display_data"
    },
    {
     "data": {
      "application/vnd.jupyter.widget-view+json": {
       "model_id": "a8d69c6b330141148b50cdf5241291a7",
       "version_major": 2,
       "version_minor": 0
      },
      "text/plain": [
       "Preparing backtest data:   0%|          | 0/10 [00:00<?, ?it/s]"
      ]
     },
     "metadata": {},
     "output_type": "display_data"
    },
    {
     "data": {
      "application/vnd.jupyter.widget-view+json": {
       "model_id": "3ba638488c92414e8442e160bdd52525",
       "version_major": 2,
       "version_minor": 0
      },
      "text/plain": [
       "Running backtest:   0%|          | 0/8761 [00:00<?, ?it/s]"
      ]
     },
     "metadata": {},
     "output_type": "display_data"
    }
   ],
   "source": [
    "from tqdm.notebook import tqdm\n",
    "from investing_algorithm_framework import create_app, DataSource, \\\n",
    "    PortfolioConfiguration, RESOURCE_DIRECTORY\n",
    "\n",
    "\n",
    "app = create_app(\n",
    "    config={\n",
    "        RESOURCE_DIRECTORY: \"./resources\",\n",
    "    }\n",
    ")\n",
    "app.add_portfolio_configuration(\n",
    "    PortfolioConfiguration(\n",
    "        initial_balance=1000,\n",
    "        trading_symbol=\"EUR\",\n",
    "        market=MARKET,\n",
    "    )\n",
    ")\n",
    "\n",
    "for variant in tqdm(variants, desc=f\"Running backtests for {len(variants)} variants\"):\n",
    "    ema_time_frame = variant[\"ema_time_frame\"]\n",
    "    rsi_time_frame = variant[\"rsi_time_frame\"]\n",
    "    ema_data_sources = [\n",
    "        DataSource(\n",
    "            symbol=symbol,\n",
    "            time_frame=ema_time_frame,\n",
    "            data_type=\"OHLCV\",\n",
    "            market=MARKET,\n",
    "            pandas=True,\n",
    "            window_size=200\n",
    "        ) for symbol in TEST_SYMBOLS\n",
    "    ]\n",
    "    rsi_data_sources = [\n",
    "        DataSource(\n",
    "            symbol=symbol,\n",
    "            time_frame=rsi_time_frame,\n",
    "            data_type=\"OHLCV\",\n",
    "            market=MARKET,\n",
    "            pandas=True,\n",
    "            window_size=200,\n",
    "        ) for symbol in TEST_SYMBOLS\n",
    "    ]\n",
    "    data_sources = ema_data_sources + rsi_data_sources\n",
    "    strategy = EMACrossoverRSIStrategy(\n",
    "        time_unit=\"hour\",\n",
    "        interval=2,\n",
    "        symbols=[\"BTC/EUR\"],\n",
    "        data_sources=data_sources,\n",
    "        market=MARKET,\n",
    "        ema_short_period=variant[\"ema_short_period\"],\n",
    "        ema_long_period=variant[\"ema_long_period\"],\n",
    "        rsi_period=variant[\"rsi_period\"],\n",
    "        rsi_oversold_threshold=variant[\"rsi_oversold_threshold\"],\n",
    "        rsi_overbought_threshold=variant[\"rsi_overbought_threshold\"],\n",
    "        alignment_window_size=variant[\"alignment_window_size\"],\n",
    "        ema_time_frame=variant[\"ema_time_frame\"],\n",
    "        rsi_time_frame=variant[\"rsi_time_frame\"],\n",
    "    )\n",
    "    backtests = app.run_backtests(\n",
    "        strategy=strategy,\n",
    "        backtest_date_ranges=test_backtest_date_ranges,\n",
    "        initial_amount=1000,\n",
    "        snapshot_interval=SnapshotInterval.DAILY,\n",
    "        risk_free_rate=RISK_FREE_RATE,\n",
    "        save=False\n",
    "    )\n",
    "    for backtest in backtests:\n",
    "        print(\n",
    "            f\"Backtest for {variant['ema_time_frame']} \"\n",
    "        )\n",
    "        print(f\"  Final value: {backtest.backtest_metrics.final_value:.2f}\")\n",
    "        print(f\"  Total Return: {backtest.backtest_metrics.total_return:.2f} ({backtest.backtest_metrics.total_return_percentage:.2%})\")\n",
    "        print(f\"  Sharpe Ratio: {backtest.backtest_metrics.sharpe_ratio:.2f}\")\n",
    "        print(f\"  Sortino Ratio: {backtest.backtest_metrics.sortino_ratio:.2f}\")\n",
    "        print(f\"  Max Drawdown: {backtest.backtest_metrics.max_drawdown:.2%}\")\n",
    "        print(f\"  Win Rate: {backtest.backtest_metrics.win_rate}%\")\n",
    "        print(f\"  Profit Factor: {backtest.backtest_metrics.profit_factor:.2f}\")"
   ]
  }
 ],
 "metadata": {
  "kernelspec": {
   "display_name": "investing-algorithm-framework-ygOLr3-a-py3.12",
   "language": "python",
   "name": "python3"
  },
  "language_info": {
   "codemirror_mode": {
    "name": "ipython",
    "version": 3
   },
   "file_extension": ".py",
   "mimetype": "text/x-python",
   "name": "python",
   "nbconvert_exporter": "python",
   "pygments_lexer": "ipython3",
   "version": "3.12.11"
  }
 },
 "nbformat": 4,
 "nbformat_minor": 5
}
